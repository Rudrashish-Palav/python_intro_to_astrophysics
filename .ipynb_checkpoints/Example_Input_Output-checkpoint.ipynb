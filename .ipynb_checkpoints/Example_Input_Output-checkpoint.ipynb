{
 "cells": [
  {
   "cell_type": "code",
   "execution_count": 1,
   "id": "a76302a4",
   "metadata": {},
   "outputs": [
    {
     "name": "stdout",
     "output_type": "stream",
     "text": [
      "With for loops / lists it took 10.8430 seconds\n",
      "With numpy.loadtxt and numpy.savetxt it took 10.5020 seconds\n",
      "With hdf5 files it took 0.0530 seconds\n"
     ]
    }
   ],
   "source": [
    "import numpy\n",
    "import time\n",
    "import h5py\n",
    "\n",
    "#Let us generate an array with 3e6 floats\n",
    "x = numpy.random.random(3000000)\n",
    "y = numpy.random.random(3000000)\n",
    "\n",
    "\n",
    "#Let us first try and save and write with for loops\n",
    "\n",
    "tstart = time.time()\n",
    "f = open('Ascii_with_for_loop.txt','w')\n",
    "for i in range(len(x)):\n",
    "    f.write(\"%.18f %.18f\\n\"%(x[i],y[i]))\n",
    "f.close()\n",
    "\n",
    "List_x_read = []\n",
    "List_y_read = []\n",
    "\n",
    "f = open('Ascii_with_for_loop.txt','r')\n",
    "for line in f:\n",
    "    tmp = line.split(' ')\n",
    "    List_x_read.append( float(tmp[0]) )\n",
    "    List_y_read.append( float(tmp[1]) )\n",
    "f.close()\n",
    "print('With for loops / lists it took %.4f seconds'%(time.time()-tstart))\n",
    "\n",
    "#We now save the data to an ascii file, read it again and measure the time it takes\n",
    "tstart = time.time()\n",
    "numpy.savetxt('Asciifile1.txt',[x,y])\n",
    "x1,y1 =numpy.loadtxt('Asciifile1.txt')\n",
    "print('With numpy.loadtxt and numpy.savetxt it took %.4f seconds'%(time.time()-tstart))\n",
    "\n",
    "#We do the same with hdf5:\n",
    "\n",
    "tstart = time.time()\n",
    "f = h5py.File('Outputfile.hdf5','w')\n",
    "\n",
    "#With these three commands we can save data to file\n",
    "dset = f.create_dataset('x', x.shape, dtype=x.dtype)\n",
    "dset[:] = x\n",
    "dset = f.create_dataset('y', x.shape, dtype=x.dtype)\n",
    "dset[:] = y\n",
    "f.close()\n",
    "\n",
    "#and this is how we read it\n",
    "\n",
    "f=h5py.File('Outputfile.hdf5','r')\n",
    "x2 = f['x'][()]\n",
    "y2 = f['y'][()]\n",
    "f.close()\n",
    "\n",
    "print('With hdf5 files it took %.4f seconds'%(time.time()-tstart))"
   ]
  },
  {
   "cell_type": "code",
   "execution_count": null,
   "id": "3e6b4418",
   "metadata": {},
   "outputs": [],
   "source": []
  }
 ],
 "metadata": {
  "kernelspec": {
   "display_name": "Python 3 (ipykernel)",
   "language": "python",
   "name": "python3"
  },
  "language_info": {
   "codemirror_mode": {
    "name": "ipython",
    "version": 3
   },
   "file_extension": ".py",
   "mimetype": "text/x-python",
   "name": "python",
   "nbconvert_exporter": "python",
   "pygments_lexer": "ipython3",
   "version": "3.11.0"
  }
 },
 "nbformat": 4,
 "nbformat_minor": 5
}
